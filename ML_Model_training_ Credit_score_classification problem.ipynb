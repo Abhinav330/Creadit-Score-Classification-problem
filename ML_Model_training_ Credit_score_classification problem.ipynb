{
 "cells": [
  {
   "cell_type": "code",
   "execution_count": 162,
   "metadata": {},
   "outputs": [],
   "source": [
    "import pandas as pd\n",
    "import numpy as np\n",
    "import matplotlib.pyplot as plt\n",
    "import seaborn as sns"
   ]
  },
  {
   "cell_type": "code",
   "execution_count": 163,
   "metadata": {},
   "outputs": [],
   "source": [
    "df = pd.read_csv(\"train_cleaned.csv\",low_memory=False)"
   ]
  },
  {
   "cell_type": "code",
   "execution_count": 164,
   "metadata": {},
   "outputs": [
    {
     "name": "stdout",
     "output_type": "stream",
     "text": [
      "<class 'pandas.core.frame.DataFrame'>\n",
      "RangeIndex: 89930 entries, 0 to 89929\n",
      "Data columns (total 26 columns):\n",
      " #   Column                    Non-Null Count  Dtype  \n",
      "---  ------                    --------------  -----  \n",
      " 0   Month                     89930 non-null  int64  \n",
      " 1   Name                      89930 non-null  object \n",
      " 2   Age                       89930 non-null  int64  \n",
      " 3   SSN                       89930 non-null  object \n",
      " 4   Occupation                89930 non-null  object \n",
      " 5   Annual_Income             89930 non-null  float64\n",
      " 6   Monthly_Inhand_Salary     89930 non-null  float64\n",
      " 7   Num_Bank_Accounts         89930 non-null  int64  \n",
      " 8   Num_Credit_Card           89930 non-null  int64  \n",
      " 9   Interest_Rate             89930 non-null  int64  \n",
      " 10  Num_of_Loan               89930 non-null  int64  \n",
      " 11  Type_of_Loan              89930 non-null  object \n",
      " 12  Delay_from_due_date       89930 non-null  int64  \n",
      " 13  Num_of_Delayed_Payment    89930 non-null  int64  \n",
      " 14  Changed_Credit_Limit      89930 non-null  float64\n",
      " 15  Num_Credit_Inquiries      89930 non-null  int64  \n",
      " 16  Credit_Mix                89930 non-null  object \n",
      " 17  Outstanding_Debt          89930 non-null  float64\n",
      " 18  Credit_Utilization_Ratio  89930 non-null  float64\n",
      " 19  Credit_History_Age        89930 non-null  float64\n",
      " 20  Payment_of_Min_Amount     89930 non-null  object \n",
      " 21  Total_EMI_per_month       89930 non-null  float64\n",
      " 22  Amount_invested_monthly   89930 non-null  float64\n",
      " 23  Payment_Behaviour         89930 non-null  object \n",
      " 24  Monthly_Balance           89930 non-null  float64\n",
      " 25  Credit_Score              89930 non-null  object \n",
      "dtypes: float64(9), int64(9), object(8)\n",
      "memory usage: 17.8+ MB\n"
     ]
    }
   ],
   "source": [
    "df.info()"
   ]
  },
  {
   "cell_type": "markdown",
   "metadata": {},
   "source": [
    "| **Feature**                        | **Retained/Dropped**                                                                 |\n",
    "|------------------------------------|-------------------------------------------------------------------------------------|\n",
    "| **Month**                          | Dropped                                                   |\n",
    "| **Name**                           | Dropped                                               |\n",
    "| **Age**                            | Retained                                     |\n",
    "| **SSN**                            | Dropped            |\n",
    "| **Occupation**                     | Retained         |\n",
    "| **Annual_Income**                  | Retained                       |\n",
    "| **Monthly_Inhand_Salary**          | Dropped                                      |\n",
    "| **Num_Bank_Accounts**              | Dropped                              |\n",
    "| **Num_Credit_Card**                | Retained  |\n",
    "| **Interest_Rate**                  | Retained                      |\n",
    "| **Num_of_Loan**                    | Retained                  |\n",
    "| **Type_of_Loan**                   | Retained                                      |\n",
    "| **Delay_from_due_date**            | Dropped                                |\n",
    "| **Num_of_Delayed_Payment**         | Dropped\n",
    "| **Changed_Credit_Limit**           | Retained                            |\n",
    "| **Num_Credit_Inquiries**           | Dropped                                    |\n",
    "| **Credit_Mix**                     | Dropped                        |\n",
    "| **Outstanding_Debt**               | Retained:                                                                           |\n",
    "| **Credit_Utilization_Ratio**       | Retained:                                                                           |\n",
    "| **Credit_History_Age**             | Dropped:                                                                            |\n",
    "| **Payment_of_Min_Amount**          | Dropped:                                                                            |\n",
    "| **Total_EMI_per_month**            | Retained:                                                                           |\n",
    "| **Amount_invested_monthly**        | Dropped:                                                                            |\n",
    "| **Payment_Behaviour**              | Retained:                                                                           |\n",
    "| **Monthly_Balance**                | Dropped:                                                                            |\n",
    "| **Credit_Score**                   | Retained:                                                                           |\n"
   ]
  },
  {
   "cell_type": "code",
   "execution_count": 165,
   "metadata": {},
   "outputs": [],
   "source": [
    "df.drop(['Month',\n",
    "         'Name',\n",
    "         'SSN',\n",
    "         'Monthly_Inhand_Salary',\n",
    "         'Num_Bank_Accounts',\n",
    "         'Delay_from_due_date',\n",
    "         'Num_of_Delayed_Payment',\n",
    "         'Num_Credit_Inquiries',\n",
    "         'Credit_Mix',\n",
    "         'Credit_History_Age',\n",
    "         'Payment_of_Min_Amount',\n",
    "         'Amount_invested_monthly',\n",
    "         'Monthly_Balance'],\n",
    "         axis=1,\n",
    "         inplace=True)\n"
   ]
  },
  {
   "cell_type": "code",
   "execution_count": 166,
   "metadata": {},
   "outputs": [
    {
     "name": "stdout",
     "output_type": "stream",
     "text": [
      "<class 'pandas.core.frame.DataFrame'>\n",
      "RangeIndex: 89930 entries, 0 to 89929\n",
      "Data columns (total 13 columns):\n",
      " #   Column                    Non-Null Count  Dtype  \n",
      "---  ------                    --------------  -----  \n",
      " 0   Age                       89930 non-null  int64  \n",
      " 1   Occupation                89930 non-null  object \n",
      " 2   Annual_Income             89930 non-null  float64\n",
      " 3   Num_Credit_Card           89930 non-null  int64  \n",
      " 4   Interest_Rate             89930 non-null  int64  \n",
      " 5   Num_of_Loan               89930 non-null  int64  \n",
      " 6   Type_of_Loan              89930 non-null  object \n",
      " 7   Changed_Credit_Limit      89930 non-null  float64\n",
      " 8   Outstanding_Debt          89930 non-null  float64\n",
      " 9   Credit_Utilization_Ratio  89930 non-null  float64\n",
      " 10  Total_EMI_per_month       89930 non-null  float64\n",
      " 11  Payment_Behaviour         89930 non-null  object \n",
      " 12  Credit_Score              89930 non-null  object \n",
      "dtypes: float64(5), int64(4), object(4)\n",
      "memory usage: 8.9+ MB\n"
     ]
    }
   ],
   "source": [
    "df.info()"
   ]
  },
  {
   "cell_type": "markdown",
   "metadata": {},
   "source": [
    "## Converting String columns to Numerical for ML models. "
   ]
  },
  {
   "cell_type": "code",
   "execution_count": 167,
   "metadata": {},
   "outputs": [
    {
     "data": {
      "text/plain": [
       "array(['Scientist', 'Teacher', 'Engineer', 'Entrepreneur', 'Developer',\n",
       "       'Lawyer', 'Media_Manager', 'Doctor', 'Journalist', 'Manager',\n",
       "       'Accountant', 'Musician', 'Mechanic', 'Writer', 'Architect',\n",
       "       'Unknown'], dtype=object)"
      ]
     },
     "execution_count": 167,
     "metadata": {},
     "output_type": "execute_result"
    }
   ],
   "source": [
    "df['Occupation'].unique()"
   ]
  },
  {
   "cell_type": "code",
   "execution_count": 168,
   "metadata": {},
   "outputs": [
    {
     "data": {
      "text/plain": [
       "array(['Auto Loan', 'Credit-Builder Loan', 'Not Specified', 'missing',\n",
       "       'Personal Loan', 'Payday Loan', 'Mortgage Loan',\n",
       "       'Home Equity Loan', 'Debt Consolidation Loan', 'Student Loan'],\n",
       "      dtype=object)"
      ]
     },
     "execution_count": 168,
     "metadata": {},
     "output_type": "execute_result"
    }
   ],
   "source": [
    "df['Type_of_Loan'].unique()"
   ]
  },
  {
   "cell_type": "code",
   "execution_count": 169,
   "metadata": {},
   "outputs": [
    {
     "data": {
      "text/plain": [
       "array(['High_spent_Medium_value_payments',\n",
       "       'High_spent_Large_value_payments',\n",
       "       'Low_spent_Large_value_payments', 'Low_spent_Small_value_payments',\n",
       "       'Low_spent_Medium_value_payments',\n",
       "       'High_spent_Small_value_payments'], dtype=object)"
      ]
     },
     "execution_count": 169,
     "metadata": {},
     "output_type": "execute_result"
    }
   ],
   "source": [
    "df['Payment_Behaviour'].unique()"
   ]
  },
  {
   "cell_type": "code",
   "execution_count": 170,
   "metadata": {},
   "outputs": [
    {
     "data": {
      "text/plain": [
       "array(['Good', 'Standard', 'Poor'], dtype=object)"
      ]
     },
     "execution_count": 170,
     "metadata": {},
     "output_type": "execute_result"
    }
   ],
   "source": [
    "df['Credit_Score'].unique()"
   ]
  },
  {
   "cell_type": "markdown",
   "metadata": {},
   "source": [
    "# one hot encoding"
   ]
  },
  {
   "cell_type": "code",
   "execution_count": 171,
   "metadata": {},
   "outputs": [],
   "source": [
    "def include_in_df(x, df=df):\n",
    "    df1 = pd.get_dummies(df[x], drop_first=True, dtype=int)\n",
    "    ddf = pd.concat([df,df1],axis=1)\n",
    "    return ddf"
   ]
  },
  {
   "cell_type": "code",
   "execution_count": 172,
   "metadata": {},
   "outputs": [],
   "source": [
    "df1 = include_in_df('Type_of_Loan',df)\n",
    "df1 =include_in_df('Occupation',df)\n",
    "df1.drop(['Type_of_Loan','Occupation'], axis=1, inplace=True)"
   ]
  },
  {
   "cell_type": "code",
   "execution_count": 173,
   "metadata": {},
   "outputs": [
    {
     "data": {
      "text/html": [
       "<div>\n",
       "<style scoped>\n",
       "    .dataframe tbody tr th:only-of-type {\n",
       "        vertical-align: middle;\n",
       "    }\n",
       "\n",
       "    .dataframe tbody tr th {\n",
       "        vertical-align: top;\n",
       "    }\n",
       "\n",
       "    .dataframe thead th {\n",
       "        text-align: right;\n",
       "    }\n",
       "</style>\n",
       "<table border=\"1\" class=\"dataframe\">\n",
       "  <thead>\n",
       "    <tr style=\"text-align: right;\">\n",
       "      <th></th>\n",
       "      <th>Age</th>\n",
       "      <th>Annual_Income</th>\n",
       "      <th>Num_Credit_Card</th>\n",
       "      <th>Interest_Rate</th>\n",
       "      <th>Num_of_Loan</th>\n",
       "      <th>Changed_Credit_Limit</th>\n",
       "      <th>Outstanding_Debt</th>\n",
       "      <th>Credit_Utilization_Ratio</th>\n",
       "      <th>Total_EMI_per_month</th>\n",
       "      <th>Payment_Behaviour</th>\n",
       "      <th>...</th>\n",
       "      <th>Journalist</th>\n",
       "      <th>Lawyer</th>\n",
       "      <th>Manager</th>\n",
       "      <th>Mechanic</th>\n",
       "      <th>Media_Manager</th>\n",
       "      <th>Musician</th>\n",
       "      <th>Scientist</th>\n",
       "      <th>Teacher</th>\n",
       "      <th>Unknown</th>\n",
       "      <th>Writer</th>\n",
       "    </tr>\n",
       "  </thead>\n",
       "  <tbody>\n",
       "    <tr>\n",
       "      <th>0</th>\n",
       "      <td>23</td>\n",
       "      <td>19114.12</td>\n",
       "      <td>4</td>\n",
       "      <td>3</td>\n",
       "      <td>4</td>\n",
       "      <td>11.27</td>\n",
       "      <td>809.98</td>\n",
       "      <td>22.537593</td>\n",
       "      <td>49.574949</td>\n",
       "      <td>High_spent_Medium_value_payments</td>\n",
       "      <td>...</td>\n",
       "      <td>0</td>\n",
       "      <td>0</td>\n",
       "      <td>0</td>\n",
       "      <td>0</td>\n",
       "      <td>0</td>\n",
       "      <td>0</td>\n",
       "      <td>1</td>\n",
       "      <td>0</td>\n",
       "      <td>0</td>\n",
       "      <td>0</td>\n",
       "    </tr>\n",
       "    <tr>\n",
       "      <th>1</th>\n",
       "      <td>23</td>\n",
       "      <td>19114.12</td>\n",
       "      <td>4</td>\n",
       "      <td>3</td>\n",
       "      <td>4</td>\n",
       "      <td>11.27</td>\n",
       "      <td>809.98</td>\n",
       "      <td>22.537593</td>\n",
       "      <td>49.574949</td>\n",
       "      <td>High_spent_Medium_value_payments</td>\n",
       "      <td>...</td>\n",
       "      <td>0</td>\n",
       "      <td>0</td>\n",
       "      <td>0</td>\n",
       "      <td>0</td>\n",
       "      <td>0</td>\n",
       "      <td>0</td>\n",
       "      <td>1</td>\n",
       "      <td>0</td>\n",
       "      <td>0</td>\n",
       "      <td>0</td>\n",
       "    </tr>\n",
       "    <tr>\n",
       "      <th>2</th>\n",
       "      <td>32</td>\n",
       "      <td>19114.12</td>\n",
       "      <td>4</td>\n",
       "      <td>3</td>\n",
       "      <td>4</td>\n",
       "      <td>11.27</td>\n",
       "      <td>809.98</td>\n",
       "      <td>22.537593</td>\n",
       "      <td>49.574949</td>\n",
       "      <td>High_spent_Medium_value_payments</td>\n",
       "      <td>...</td>\n",
       "      <td>0</td>\n",
       "      <td>0</td>\n",
       "      <td>0</td>\n",
       "      <td>0</td>\n",
       "      <td>0</td>\n",
       "      <td>0</td>\n",
       "      <td>1</td>\n",
       "      <td>0</td>\n",
       "      <td>0</td>\n",
       "      <td>0</td>\n",
       "    </tr>\n",
       "    <tr>\n",
       "      <th>3</th>\n",
       "      <td>23</td>\n",
       "      <td>19114.12</td>\n",
       "      <td>4</td>\n",
       "      <td>3</td>\n",
       "      <td>4</td>\n",
       "      <td>11.27</td>\n",
       "      <td>809.98</td>\n",
       "      <td>22.537593</td>\n",
       "      <td>49.574949</td>\n",
       "      <td>High_spent_Medium_value_payments</td>\n",
       "      <td>...</td>\n",
       "      <td>0</td>\n",
       "      <td>0</td>\n",
       "      <td>0</td>\n",
       "      <td>0</td>\n",
       "      <td>0</td>\n",
       "      <td>0</td>\n",
       "      <td>1</td>\n",
       "      <td>0</td>\n",
       "      <td>0</td>\n",
       "      <td>0</td>\n",
       "    </tr>\n",
       "    <tr>\n",
       "      <th>4</th>\n",
       "      <td>23</td>\n",
       "      <td>19114.12</td>\n",
       "      <td>4</td>\n",
       "      <td>3</td>\n",
       "      <td>4</td>\n",
       "      <td>11.27</td>\n",
       "      <td>809.98</td>\n",
       "      <td>22.537593</td>\n",
       "      <td>49.574949</td>\n",
       "      <td>High_spent_Medium_value_payments</td>\n",
       "      <td>...</td>\n",
       "      <td>0</td>\n",
       "      <td>0</td>\n",
       "      <td>0</td>\n",
       "      <td>0</td>\n",
       "      <td>0</td>\n",
       "      <td>0</td>\n",
       "      <td>1</td>\n",
       "      <td>0</td>\n",
       "      <td>0</td>\n",
       "      <td>0</td>\n",
       "    </tr>\n",
       "  </tbody>\n",
       "</table>\n",
       "<p>5 rows × 26 columns</p>\n",
       "</div>"
      ],
      "text/plain": [
       "   Age  Annual_Income  Num_Credit_Card  Interest_Rate  Num_of_Loan  \\\n",
       "0   23       19114.12                4              3            4   \n",
       "1   23       19114.12                4              3            4   \n",
       "2   32       19114.12                4              3            4   \n",
       "3   23       19114.12                4              3            4   \n",
       "4   23       19114.12                4              3            4   \n",
       "\n",
       "   Changed_Credit_Limit  Outstanding_Debt  Credit_Utilization_Ratio  \\\n",
       "0                 11.27            809.98                 22.537593   \n",
       "1                 11.27            809.98                 22.537593   \n",
       "2                 11.27            809.98                 22.537593   \n",
       "3                 11.27            809.98                 22.537593   \n",
       "4                 11.27            809.98                 22.537593   \n",
       "\n",
       "   Total_EMI_per_month                 Payment_Behaviour  ... Journalist  \\\n",
       "0            49.574949  High_spent_Medium_value_payments  ...          0   \n",
       "1            49.574949  High_spent_Medium_value_payments  ...          0   \n",
       "2            49.574949  High_spent_Medium_value_payments  ...          0   \n",
       "3            49.574949  High_spent_Medium_value_payments  ...          0   \n",
       "4            49.574949  High_spent_Medium_value_payments  ...          0   \n",
       "\n",
       "   Lawyer  Manager  Mechanic  Media_Manager  Musician  Scientist  Teacher  \\\n",
       "0       0        0         0              0         0          1        0   \n",
       "1       0        0         0              0         0          1        0   \n",
       "2       0        0         0              0         0          1        0   \n",
       "3       0        0         0              0         0          1        0   \n",
       "4       0        0         0              0         0          1        0   \n",
       "\n",
       "   Unknown  Writer  \n",
       "0        0       0  \n",
       "1        0       0  \n",
       "2        0       0  \n",
       "3        0       0  \n",
       "4        0       0  \n",
       "\n",
       "[5 rows x 26 columns]"
      ]
     },
     "execution_count": 173,
     "metadata": {},
     "output_type": "execute_result"
    }
   ],
   "source": [
    "df1.head()"
   ]
  },
  {
   "cell_type": "markdown",
   "metadata": {},
   "source": [
    "## Nominal Encoding"
   ]
  },
  {
   "cell_type": "code",
   "execution_count": 174,
   "metadata": {},
   "outputs": [
    {
     "data": {
      "text/plain": [
       "array(['High_spent_Medium_value_payments',\n",
       "       'High_spent_Large_value_payments',\n",
       "       'Low_spent_Large_value_payments', 'Low_spent_Small_value_payments',\n",
       "       'Low_spent_Medium_value_payments',\n",
       "       'High_spent_Small_value_payments'], dtype=object)"
      ]
     },
     "execution_count": 174,
     "metadata": {},
     "output_type": "execute_result"
    }
   ],
   "source": [
    "df['Payment_Behaviour'].unique()"
   ]
  },
  {
   "cell_type": "code",
   "execution_count": 175,
   "metadata": {},
   "outputs": [],
   "source": [
    "def spent(x):\n",
    "        if x =='High_spent_Large_value_payments': return 6\n",
    "        elif x =='High_spent_Medium_value_payments': return 5\n",
    "        elif x =='High_spent_Small_value_payments':  return 4\n",
    "        elif x =='Low_spent_Large_value_payments':   return 3\n",
    "        elif x =='Low_spent_Medium_value_payments':  return 2\n",
    "        elif x =='Low_spent_Small_value_payments':   return 1"
   ]
  },
  {
   "cell_type": "code",
   "execution_count": 176,
   "metadata": {},
   "outputs": [],
   "source": [
    "def c_score(x):\n",
    "    if x == 'Good':return 2\n",
    "    elif x == 'Standard':return 1\n",
    "    else: return 0\n",
    "    "
   ]
  },
  {
   "cell_type": "code",
   "execution_count": 177,
   "metadata": {},
   "outputs": [],
   "source": [
    "df1['Payment_Behaviour'] = df['Payment_Behaviour'].apply(spent)\n",
    "df1['Credit_Score'] = df['Credit_Score'].apply(c_score)"
   ]
  },
  {
   "cell_type": "code",
   "execution_count": 181,
   "metadata": {},
   "outputs": [
    {
     "data": {
      "text/plain": [
       "array([5, 6, 3, 1, 2, 4])"
      ]
     },
     "execution_count": 181,
     "metadata": {},
     "output_type": "execute_result"
    }
   ],
   "source": [
    "df1['Payment_Behaviour'].unique()"
   ]
  },
  {
   "cell_type": "code",
   "execution_count": 182,
   "metadata": {},
   "outputs": [
    {
     "data": {
      "text/plain": [
       "array([2, 1, 0])"
      ]
     },
     "execution_count": 182,
     "metadata": {},
     "output_type": "execute_result"
    }
   ],
   "source": [
    "df1['Credit_Score'].unique()"
   ]
  },
  {
   "cell_type": "markdown",
   "metadata": {},
   "source": [
    "## Train dataset is ready let's make test dataset ready"
   ]
  },
  {
   "cell_type": "code",
   "execution_count": 183,
   "metadata": {},
   "outputs": [],
   "source": [
    "test = pd.read_csv('test_cleaned.csv',low_memory=False)"
   ]
  },
  {
   "cell_type": "code",
   "execution_count": 184,
   "metadata": {},
   "outputs": [
    {
     "name": "stdout",
     "output_type": "stream",
     "text": [
      "<class 'pandas.core.frame.DataFrame'>\n",
      "RangeIndex: 44945 entries, 0 to 44944\n",
      "Data columns (total 25 columns):\n",
      " #   Column                    Non-Null Count  Dtype  \n",
      "---  ------                    --------------  -----  \n",
      " 0   Month                     44945 non-null  int64  \n",
      " 1   Name                      44945 non-null  object \n",
      " 2   Age                       44945 non-null  int64  \n",
      " 3   SSN                       44945 non-null  object \n",
      " 4   Occupation                44945 non-null  object \n",
      " 5   Annual_Income             44945 non-null  float64\n",
      " 6   Monthly_Inhand_Salary     44945 non-null  float64\n",
      " 7   Num_Bank_Accounts         44945 non-null  int64  \n",
      " 8   Num_Credit_Card           44945 non-null  int64  \n",
      " 9   Interest_Rate             44945 non-null  int64  \n",
      " 10  Num_of_Loan               44945 non-null  int64  \n",
      " 11  Type_of_Loan              44945 non-null  object \n",
      " 12  Delay_from_due_date       44945 non-null  int64  \n",
      " 13  Num_of_Delayed_Payment    44945 non-null  int64  \n",
      " 14  Changed_Credit_Limit      44945 non-null  float64\n",
      " 15  Num_Credit_Inquiries      44945 non-null  int64  \n",
      " 16  Credit_Mix                44945 non-null  object \n",
      " 17  Outstanding_Debt          44945 non-null  float64\n",
      " 18  Credit_Utilization_Ratio  44945 non-null  float64\n",
      " 19  Credit_History_Age        44945 non-null  float64\n",
      " 20  Payment_of_Min_Amount     44945 non-null  object \n",
      " 21  Total_EMI_per_month       44945 non-null  float64\n",
      " 22  Amount_invested_monthly   44945 non-null  float64\n",
      " 23  Payment_Behaviour         44945 non-null  object \n",
      " 24  Monthly_Balance           44945 non-null  float64\n",
      "dtypes: float64(9), int64(9), object(7)\n",
      "memory usage: 8.6+ MB\n"
     ]
    }
   ],
   "source": [
    "test.info()"
   ]
  },
  {
   "cell_type": "code",
   "execution_count": 185,
   "metadata": {},
   "outputs": [
    {
     "data": {
      "text/plain": [
       "Index(['Month', 'Name', 'Age', 'SSN', 'Occupation', 'Annual_Income',\n",
       "       'Monthly_Inhand_Salary', 'Num_Bank_Accounts', 'Num_Credit_Card',\n",
       "       'Interest_Rate', 'Num_of_Loan', 'Type_of_Loan', 'Delay_from_due_date',\n",
       "       'Num_of_Delayed_Payment', 'Changed_Credit_Limit',\n",
       "       'Num_Credit_Inquiries', 'Credit_Mix', 'Outstanding_Debt',\n",
       "       'Credit_Utilization_Ratio', 'Credit_History_Age',\n",
       "       'Payment_of_Min_Amount', 'Total_EMI_per_month',\n",
       "       'Amount_invested_monthly', 'Payment_Behaviour', 'Monthly_Balance'],\n",
       "      dtype='object')"
      ]
     },
     "execution_count": 185,
     "metadata": {},
     "output_type": "execute_result"
    }
   ],
   "source": [
    "test.columns"
   ]
  },
  {
   "cell_type": "code",
   "execution_count": 186,
   "metadata": {},
   "outputs": [],
   "source": [
    "def test_cleaner(df):\n",
    "    df.drop(['Month',\n",
    "         'Name',\n",
    "         'SSN',\n",
    "         'Monthly_Inhand_Salary',\n",
    "         'Num_Bank_Accounts',\n",
    "         'Delay_from_due_date',\n",
    "         'Num_of_Delayed_Payment',\n",
    "         'Num_Credit_Inquiries',\n",
    "         'Credit_Mix',\n",
    "         'Credit_History_Age',\n",
    "         'Payment_of_Min_Amount',\n",
    "         'Amount_invested_monthly',\n",
    "         'Monthly_Balance'],\n",
    "         axis=1,\n",
    "         inplace=True)\n",
    "    df1 = include_in_df('Type_of_Loan',df)\n",
    "    df1 =include_in_df('Occupation',df)\n",
    "    df1['Payment_Behaviour'] = df['Payment_Behaviour'].apply(spent)\n",
    "    df1.drop(['Type_of_Loan','Occupation'], axis=1, inplace=True)\n",
    "    return df1\n"
   ]
  },
  {
   "cell_type": "code",
   "execution_count": 187,
   "metadata": {},
   "outputs": [],
   "source": [
    "test_df = test_cleaner(test)"
   ]
  },
  {
   "cell_type": "code",
   "execution_count": 188,
   "metadata": {},
   "outputs": [
    {
     "name": "stdout",
     "output_type": "stream",
     "text": [
      "<class 'pandas.core.frame.DataFrame'>\n",
      "RangeIndex: 89930 entries, 0 to 89929\n",
      "Data columns (total 26 columns):\n",
      " #   Column                    Non-Null Count  Dtype  \n",
      "---  ------                    --------------  -----  \n",
      " 0   Age                       89930 non-null  int64  \n",
      " 1   Annual_Income             89930 non-null  float64\n",
      " 2   Num_Credit_Card           89930 non-null  int64  \n",
      " 3   Interest_Rate             89930 non-null  int64  \n",
      " 4   Num_of_Loan               89930 non-null  int64  \n",
      " 5   Changed_Credit_Limit      89930 non-null  float64\n",
      " 6   Outstanding_Debt          89930 non-null  float64\n",
      " 7   Credit_Utilization_Ratio  89930 non-null  float64\n",
      " 8   Total_EMI_per_month       89930 non-null  float64\n",
      " 9   Payment_Behaviour         89930 non-null  int64  \n",
      " 10  Credit_Score              89930 non-null  int64  \n",
      " 11  Architect                 89930 non-null  int64  \n",
      " 12  Developer                 89930 non-null  int64  \n",
      " 13  Doctor                    89930 non-null  int64  \n",
      " 14  Engineer                  89930 non-null  int64  \n",
      " 15  Entrepreneur              89930 non-null  int64  \n",
      " 16  Journalist                89930 non-null  int64  \n",
      " 17  Lawyer                    89930 non-null  int64  \n",
      " 18  Manager                   89930 non-null  int64  \n",
      " 19  Mechanic                  89930 non-null  int64  \n",
      " 20  Media_Manager             89930 non-null  int64  \n",
      " 21  Musician                  89930 non-null  int64  \n",
      " 22  Scientist                 89930 non-null  int64  \n",
      " 23  Teacher                   89930 non-null  int64  \n",
      " 24  Unknown                   89930 non-null  int64  \n",
      " 25  Writer                    89930 non-null  int64  \n",
      "dtypes: float64(5), int64(21)\n",
      "memory usage: 17.8 MB\n"
     ]
    }
   ],
   "source": [
    "df1.info()"
   ]
  },
  {
   "cell_type": "code",
   "execution_count": 189,
   "metadata": {},
   "outputs": [
    {
     "name": "stdout",
     "output_type": "stream",
     "text": [
      "<class 'pandas.core.frame.DataFrame'>\n",
      "RangeIndex: 44945 entries, 0 to 44944\n",
      "Data columns (total 25 columns):\n",
      " #   Column                    Non-Null Count  Dtype  \n",
      "---  ------                    --------------  -----  \n",
      " 0   Age                       44945 non-null  int64  \n",
      " 1   Annual_Income             44945 non-null  float64\n",
      " 2   Num_Credit_Card           44945 non-null  int64  \n",
      " 3   Interest_Rate             44945 non-null  int64  \n",
      " 4   Num_of_Loan               44945 non-null  int64  \n",
      " 5   Changed_Credit_Limit      44945 non-null  float64\n",
      " 6   Outstanding_Debt          44945 non-null  float64\n",
      " 7   Credit_Utilization_Ratio  44945 non-null  float64\n",
      " 8   Total_EMI_per_month       44945 non-null  float64\n",
      " 9   Payment_Behaviour         44945 non-null  int64  \n",
      " 10  Architect                 44945 non-null  int64  \n",
      " 11  Developer                 44945 non-null  int64  \n",
      " 12  Doctor                    44945 non-null  int64  \n",
      " 13  Engineer                  44945 non-null  int64  \n",
      " 14  Entrepreneur              44945 non-null  int64  \n",
      " 15  Journalist                44945 non-null  int64  \n",
      " 16  Lawyer                    44945 non-null  int64  \n",
      " 17  Manager                   44945 non-null  int64  \n",
      " 18  Mechanic                  44945 non-null  int64  \n",
      " 19  Media_Manager             44945 non-null  int64  \n",
      " 20  Musician                  44945 non-null  int64  \n",
      " 21  Scientist                 44945 non-null  int64  \n",
      " 22  Teacher                   44945 non-null  int64  \n",
      " 23  Unknown                   44945 non-null  int64  \n",
      " 24  Writer                    44945 non-null  int64  \n",
      "dtypes: float64(5), int64(20)\n",
      "memory usage: 8.6 MB\n"
     ]
    }
   ],
   "source": [
    "test_df.info()"
   ]
  },
  {
   "cell_type": "markdown",
   "metadata": {},
   "source": [
    "#  ML\n"
   ]
  },
  {
   "cell_type": "code",
   "execution_count": null,
   "metadata": {},
   "outputs": [],
   "source": [
    "from sklearn.model_selection import train_test_split\n",
    "train , eval = train_test_split()"
   ]
  },
  {
   "cell_type": "code",
   "execution_count": 190,
   "metadata": {},
   "outputs": [],
   "source": [
    "x_train = df1.drop('Credit_Score',axis=1)\n",
    "y_train = df1['Credit_Score']"
   ]
  },
  {
   "cell_type": "code",
   "execution_count": 194,
   "metadata": {},
   "outputs": [
    {
     "data": {
      "text/html": [
       "<style>#sk-container-id-1 {\n",
       "  /* Definition of color scheme common for light and dark mode */\n",
       "  --sklearn-color-text: black;\n",
       "  --sklearn-color-line: gray;\n",
       "  /* Definition of color scheme for unfitted estimators */\n",
       "  --sklearn-color-unfitted-level-0: #fff5e6;\n",
       "  --sklearn-color-unfitted-level-1: #f6e4d2;\n",
       "  --sklearn-color-unfitted-level-2: #ffe0b3;\n",
       "  --sklearn-color-unfitted-level-3: chocolate;\n",
       "  /* Definition of color scheme for fitted estimators */\n",
       "  --sklearn-color-fitted-level-0: #f0f8ff;\n",
       "  --sklearn-color-fitted-level-1: #d4ebff;\n",
       "  --sklearn-color-fitted-level-2: #b3dbfd;\n",
       "  --sklearn-color-fitted-level-3: cornflowerblue;\n",
       "\n",
       "  /* Specific color for light theme */\n",
       "  --sklearn-color-text-on-default-background: var(--sg-text-color, var(--theme-code-foreground, var(--jp-content-font-color1, black)));\n",
       "  --sklearn-color-background: var(--sg-background-color, var(--theme-background, var(--jp-layout-color0, white)));\n",
       "  --sklearn-color-border-box: var(--sg-text-color, var(--theme-code-foreground, var(--jp-content-font-color1, black)));\n",
       "  --sklearn-color-icon: #696969;\n",
       "\n",
       "  @media (prefers-color-scheme: dark) {\n",
       "    /* Redefinition of color scheme for dark theme */\n",
       "    --sklearn-color-text-on-default-background: var(--sg-text-color, var(--theme-code-foreground, var(--jp-content-font-color1, white)));\n",
       "    --sklearn-color-background: var(--sg-background-color, var(--theme-background, var(--jp-layout-color0, #111)));\n",
       "    --sklearn-color-border-box: var(--sg-text-color, var(--theme-code-foreground, var(--jp-content-font-color1, white)));\n",
       "    --sklearn-color-icon: #878787;\n",
       "  }\n",
       "}\n",
       "\n",
       "#sk-container-id-1 {\n",
       "  color: var(--sklearn-color-text);\n",
       "}\n",
       "\n",
       "#sk-container-id-1 pre {\n",
       "  padding: 0;\n",
       "}\n",
       "\n",
       "#sk-container-id-1 input.sk-hidden--visually {\n",
       "  border: 0;\n",
       "  clip: rect(1px 1px 1px 1px);\n",
       "  clip: rect(1px, 1px, 1px, 1px);\n",
       "  height: 1px;\n",
       "  margin: -1px;\n",
       "  overflow: hidden;\n",
       "  padding: 0;\n",
       "  position: absolute;\n",
       "  width: 1px;\n",
       "}\n",
       "\n",
       "#sk-container-id-1 div.sk-dashed-wrapped {\n",
       "  border: 1px dashed var(--sklearn-color-line);\n",
       "  margin: 0 0.4em 0.5em 0.4em;\n",
       "  box-sizing: border-box;\n",
       "  padding-bottom: 0.4em;\n",
       "  background-color: var(--sklearn-color-background);\n",
       "}\n",
       "\n",
       "#sk-container-id-1 div.sk-container {\n",
       "  /* jupyter's `normalize.less` sets `[hidden] { display: none; }`\n",
       "     but bootstrap.min.css set `[hidden] { display: none !important; }`\n",
       "     so we also need the `!important` here to be able to override the\n",
       "     default hidden behavior on the sphinx rendered scikit-learn.org.\n",
       "     See: https://github.com/scikit-learn/scikit-learn/issues/21755 */\n",
       "  display: inline-block !important;\n",
       "  position: relative;\n",
       "}\n",
       "\n",
       "#sk-container-id-1 div.sk-text-repr-fallback {\n",
       "  display: none;\n",
       "}\n",
       "\n",
       "div.sk-parallel-item,\n",
       "div.sk-serial,\n",
       "div.sk-item {\n",
       "  /* draw centered vertical line to link estimators */\n",
       "  background-image: linear-gradient(var(--sklearn-color-text-on-default-background), var(--sklearn-color-text-on-default-background));\n",
       "  background-size: 2px 100%;\n",
       "  background-repeat: no-repeat;\n",
       "  background-position: center center;\n",
       "}\n",
       "\n",
       "/* Parallel-specific style estimator block */\n",
       "\n",
       "#sk-container-id-1 div.sk-parallel-item::after {\n",
       "  content: \"\";\n",
       "  width: 100%;\n",
       "  border-bottom: 2px solid var(--sklearn-color-text-on-default-background);\n",
       "  flex-grow: 1;\n",
       "}\n",
       "\n",
       "#sk-container-id-1 div.sk-parallel {\n",
       "  display: flex;\n",
       "  align-items: stretch;\n",
       "  justify-content: center;\n",
       "  background-color: var(--sklearn-color-background);\n",
       "  position: relative;\n",
       "}\n",
       "\n",
       "#sk-container-id-1 div.sk-parallel-item {\n",
       "  display: flex;\n",
       "  flex-direction: column;\n",
       "}\n",
       "\n",
       "#sk-container-id-1 div.sk-parallel-item:first-child::after {\n",
       "  align-self: flex-end;\n",
       "  width: 50%;\n",
       "}\n",
       "\n",
       "#sk-container-id-1 div.sk-parallel-item:last-child::after {\n",
       "  align-self: flex-start;\n",
       "  width: 50%;\n",
       "}\n",
       "\n",
       "#sk-container-id-1 div.sk-parallel-item:only-child::after {\n",
       "  width: 0;\n",
       "}\n",
       "\n",
       "/* Serial-specific style estimator block */\n",
       "\n",
       "#sk-container-id-1 div.sk-serial {\n",
       "  display: flex;\n",
       "  flex-direction: column;\n",
       "  align-items: center;\n",
       "  background-color: var(--sklearn-color-background);\n",
       "  padding-right: 1em;\n",
       "  padding-left: 1em;\n",
       "}\n",
       "\n",
       "\n",
       "/* Toggleable style: style used for estimator/Pipeline/ColumnTransformer box that is\n",
       "clickable and can be expanded/collapsed.\n",
       "- Pipeline and ColumnTransformer use this feature and define the default style\n",
       "- Estimators will overwrite some part of the style using the `sk-estimator` class\n",
       "*/\n",
       "\n",
       "/* Pipeline and ColumnTransformer style (default) */\n",
       "\n",
       "#sk-container-id-1 div.sk-toggleable {\n",
       "  /* Default theme specific background. It is overwritten whether we have a\n",
       "  specific estimator or a Pipeline/ColumnTransformer */\n",
       "  background-color: var(--sklearn-color-background);\n",
       "}\n",
       "\n",
       "/* Toggleable label */\n",
       "#sk-container-id-1 label.sk-toggleable__label {\n",
       "  cursor: pointer;\n",
       "  display: block;\n",
       "  width: 100%;\n",
       "  margin-bottom: 0;\n",
       "  padding: 0.5em;\n",
       "  box-sizing: border-box;\n",
       "  text-align: center;\n",
       "}\n",
       "\n",
       "#sk-container-id-1 label.sk-toggleable__label-arrow:before {\n",
       "  /* Arrow on the left of the label */\n",
       "  content: \"▸\";\n",
       "  float: left;\n",
       "  margin-right: 0.25em;\n",
       "  color: var(--sklearn-color-icon);\n",
       "}\n",
       "\n",
       "#sk-container-id-1 label.sk-toggleable__label-arrow:hover:before {\n",
       "  color: var(--sklearn-color-text);\n",
       "}\n",
       "\n",
       "/* Toggleable content - dropdown */\n",
       "\n",
       "#sk-container-id-1 div.sk-toggleable__content {\n",
       "  max-height: 0;\n",
       "  max-width: 0;\n",
       "  overflow: hidden;\n",
       "  text-align: left;\n",
       "  /* unfitted */\n",
       "  background-color: var(--sklearn-color-unfitted-level-0);\n",
       "}\n",
       "\n",
       "#sk-container-id-1 div.sk-toggleable__content.fitted {\n",
       "  /* fitted */\n",
       "  background-color: var(--sklearn-color-fitted-level-0);\n",
       "}\n",
       "\n",
       "#sk-container-id-1 div.sk-toggleable__content pre {\n",
       "  margin: 0.2em;\n",
       "  border-radius: 0.25em;\n",
       "  color: var(--sklearn-color-text);\n",
       "  /* unfitted */\n",
       "  background-color: var(--sklearn-color-unfitted-level-0);\n",
       "}\n",
       "\n",
       "#sk-container-id-1 div.sk-toggleable__content.fitted pre {\n",
       "  /* unfitted */\n",
       "  background-color: var(--sklearn-color-fitted-level-0);\n",
       "}\n",
       "\n",
       "#sk-container-id-1 input.sk-toggleable__control:checked~div.sk-toggleable__content {\n",
       "  /* Expand drop-down */\n",
       "  max-height: 200px;\n",
       "  max-width: 100%;\n",
       "  overflow: auto;\n",
       "}\n",
       "\n",
       "#sk-container-id-1 input.sk-toggleable__control:checked~label.sk-toggleable__label-arrow:before {\n",
       "  content: \"▾\";\n",
       "}\n",
       "\n",
       "/* Pipeline/ColumnTransformer-specific style */\n",
       "\n",
       "#sk-container-id-1 div.sk-label input.sk-toggleable__control:checked~label.sk-toggleable__label {\n",
       "  color: var(--sklearn-color-text);\n",
       "  background-color: var(--sklearn-color-unfitted-level-2);\n",
       "}\n",
       "\n",
       "#sk-container-id-1 div.sk-label.fitted input.sk-toggleable__control:checked~label.sk-toggleable__label {\n",
       "  background-color: var(--sklearn-color-fitted-level-2);\n",
       "}\n",
       "\n",
       "/* Estimator-specific style */\n",
       "\n",
       "/* Colorize estimator box */\n",
       "#sk-container-id-1 div.sk-estimator input.sk-toggleable__control:checked~label.sk-toggleable__label {\n",
       "  /* unfitted */\n",
       "  background-color: var(--sklearn-color-unfitted-level-2);\n",
       "}\n",
       "\n",
       "#sk-container-id-1 div.sk-estimator.fitted input.sk-toggleable__control:checked~label.sk-toggleable__label {\n",
       "  /* fitted */\n",
       "  background-color: var(--sklearn-color-fitted-level-2);\n",
       "}\n",
       "\n",
       "#sk-container-id-1 div.sk-label label.sk-toggleable__label,\n",
       "#sk-container-id-1 div.sk-label label {\n",
       "  /* The background is the default theme color */\n",
       "  color: var(--sklearn-color-text-on-default-background);\n",
       "}\n",
       "\n",
       "/* On hover, darken the color of the background */\n",
       "#sk-container-id-1 div.sk-label:hover label.sk-toggleable__label {\n",
       "  color: var(--sklearn-color-text);\n",
       "  background-color: var(--sklearn-color-unfitted-level-2);\n",
       "}\n",
       "\n",
       "/* Label box, darken color on hover, fitted */\n",
       "#sk-container-id-1 div.sk-label.fitted:hover label.sk-toggleable__label.fitted {\n",
       "  color: var(--sklearn-color-text);\n",
       "  background-color: var(--sklearn-color-fitted-level-2);\n",
       "}\n",
       "\n",
       "/* Estimator label */\n",
       "\n",
       "#sk-container-id-1 div.sk-label label {\n",
       "  font-family: monospace;\n",
       "  font-weight: bold;\n",
       "  display: inline-block;\n",
       "  line-height: 1.2em;\n",
       "}\n",
       "\n",
       "#sk-container-id-1 div.sk-label-container {\n",
       "  text-align: center;\n",
       "}\n",
       "\n",
       "/* Estimator-specific */\n",
       "#sk-container-id-1 div.sk-estimator {\n",
       "  font-family: monospace;\n",
       "  border: 1px dotted var(--sklearn-color-border-box);\n",
       "  border-radius: 0.25em;\n",
       "  box-sizing: border-box;\n",
       "  margin-bottom: 0.5em;\n",
       "  /* unfitted */\n",
       "  background-color: var(--sklearn-color-unfitted-level-0);\n",
       "}\n",
       "\n",
       "#sk-container-id-1 div.sk-estimator.fitted {\n",
       "  /* fitted */\n",
       "  background-color: var(--sklearn-color-fitted-level-0);\n",
       "}\n",
       "\n",
       "/* on hover */\n",
       "#sk-container-id-1 div.sk-estimator:hover {\n",
       "  /* unfitted */\n",
       "  background-color: var(--sklearn-color-unfitted-level-2);\n",
       "}\n",
       "\n",
       "#sk-container-id-1 div.sk-estimator.fitted:hover {\n",
       "  /* fitted */\n",
       "  background-color: var(--sklearn-color-fitted-level-2);\n",
       "}\n",
       "\n",
       "/* Specification for estimator info (e.g. \"i\" and \"?\") */\n",
       "\n",
       "/* Common style for \"i\" and \"?\" */\n",
       "\n",
       ".sk-estimator-doc-link,\n",
       "a:link.sk-estimator-doc-link,\n",
       "a:visited.sk-estimator-doc-link {\n",
       "  float: right;\n",
       "  font-size: smaller;\n",
       "  line-height: 1em;\n",
       "  font-family: monospace;\n",
       "  background-color: var(--sklearn-color-background);\n",
       "  border-radius: 1em;\n",
       "  height: 1em;\n",
       "  width: 1em;\n",
       "  text-decoration: none !important;\n",
       "  margin-left: 1ex;\n",
       "  /* unfitted */\n",
       "  border: var(--sklearn-color-unfitted-level-1) 1pt solid;\n",
       "  color: var(--sklearn-color-unfitted-level-1);\n",
       "}\n",
       "\n",
       ".sk-estimator-doc-link.fitted,\n",
       "a:link.sk-estimator-doc-link.fitted,\n",
       "a:visited.sk-estimator-doc-link.fitted {\n",
       "  /* fitted */\n",
       "  border: var(--sklearn-color-fitted-level-1) 1pt solid;\n",
       "  color: var(--sklearn-color-fitted-level-1);\n",
       "}\n",
       "\n",
       "/* On hover */\n",
       "div.sk-estimator:hover .sk-estimator-doc-link:hover,\n",
       ".sk-estimator-doc-link:hover,\n",
       "div.sk-label-container:hover .sk-estimator-doc-link:hover,\n",
       ".sk-estimator-doc-link:hover {\n",
       "  /* unfitted */\n",
       "  background-color: var(--sklearn-color-unfitted-level-3);\n",
       "  color: var(--sklearn-color-background);\n",
       "  text-decoration: none;\n",
       "}\n",
       "\n",
       "div.sk-estimator.fitted:hover .sk-estimator-doc-link.fitted:hover,\n",
       ".sk-estimator-doc-link.fitted:hover,\n",
       "div.sk-label-container:hover .sk-estimator-doc-link.fitted:hover,\n",
       ".sk-estimator-doc-link.fitted:hover {\n",
       "  /* fitted */\n",
       "  background-color: var(--sklearn-color-fitted-level-3);\n",
       "  color: var(--sklearn-color-background);\n",
       "  text-decoration: none;\n",
       "}\n",
       "\n",
       "/* Span, style for the box shown on hovering the info icon */\n",
       ".sk-estimator-doc-link span {\n",
       "  display: none;\n",
       "  z-index: 9999;\n",
       "  position: relative;\n",
       "  font-weight: normal;\n",
       "  right: .2ex;\n",
       "  padding: .5ex;\n",
       "  margin: .5ex;\n",
       "  width: min-content;\n",
       "  min-width: 20ex;\n",
       "  max-width: 50ex;\n",
       "  color: var(--sklearn-color-text);\n",
       "  box-shadow: 2pt 2pt 4pt #999;\n",
       "  /* unfitted */\n",
       "  background: var(--sklearn-color-unfitted-level-0);\n",
       "  border: .5pt solid var(--sklearn-color-unfitted-level-3);\n",
       "}\n",
       "\n",
       ".sk-estimator-doc-link.fitted span {\n",
       "  /* fitted */\n",
       "  background: var(--sklearn-color-fitted-level-0);\n",
       "  border: var(--sklearn-color-fitted-level-3);\n",
       "}\n",
       "\n",
       ".sk-estimator-doc-link:hover span {\n",
       "  display: block;\n",
       "}\n",
       "\n",
       "/* \"?\"-specific style due to the `<a>` HTML tag */\n",
       "\n",
       "#sk-container-id-1 a.estimator_doc_link {\n",
       "  float: right;\n",
       "  font-size: 1rem;\n",
       "  line-height: 1em;\n",
       "  font-family: monospace;\n",
       "  background-color: var(--sklearn-color-background);\n",
       "  border-radius: 1rem;\n",
       "  height: 1rem;\n",
       "  width: 1rem;\n",
       "  text-decoration: none;\n",
       "  /* unfitted */\n",
       "  color: var(--sklearn-color-unfitted-level-1);\n",
       "  border: var(--sklearn-color-unfitted-level-1) 1pt solid;\n",
       "}\n",
       "\n",
       "#sk-container-id-1 a.estimator_doc_link.fitted {\n",
       "  /* fitted */\n",
       "  border: var(--sklearn-color-fitted-level-1) 1pt solid;\n",
       "  color: var(--sklearn-color-fitted-level-1);\n",
       "}\n",
       "\n",
       "/* On hover */\n",
       "#sk-container-id-1 a.estimator_doc_link:hover {\n",
       "  /* unfitted */\n",
       "  background-color: var(--sklearn-color-unfitted-level-3);\n",
       "  color: var(--sklearn-color-background);\n",
       "  text-decoration: none;\n",
       "}\n",
       "\n",
       "#sk-container-id-1 a.estimator_doc_link.fitted:hover {\n",
       "  /* fitted */\n",
       "  background-color: var(--sklearn-color-fitted-level-3);\n",
       "}\n",
       "</style><div id=\"sk-container-id-1\" class=\"sk-top-container\"><div class=\"sk-text-repr-fallback\"><pre>DecisionTreeClassifier()</pre><b>In a Jupyter environment, please rerun this cell to show the HTML representation or trust the notebook. <br />On GitHub, the HTML representation is unable to render, please try loading this page with nbviewer.org.</b></div><div class=\"sk-container\" hidden><div class=\"sk-item\"><div class=\"sk-estimator fitted sk-toggleable\"><input class=\"sk-toggleable__control sk-hidden--visually\" id=\"sk-estimator-id-1\" type=\"checkbox\" checked><label for=\"sk-estimator-id-1\" class=\"sk-toggleable__label fitted sk-toggleable__label-arrow fitted\">&nbsp;&nbsp;DecisionTreeClassifier<a class=\"sk-estimator-doc-link fitted\" rel=\"noreferrer\" target=\"_blank\" href=\"https://scikit-learn.org/1.5/modules/generated/sklearn.tree.DecisionTreeClassifier.html\">?<span>Documentation for DecisionTreeClassifier</span></a><span class=\"sk-estimator-doc-link fitted\">i<span>Fitted</span></span></label><div class=\"sk-toggleable__content fitted\"><pre>DecisionTreeClassifier()</pre></div> </div></div></div></div>"
      ],
      "text/plain": [
       "DecisionTreeClassifier()"
      ]
     },
     "execution_count": 194,
     "metadata": {},
     "output_type": "execute_result"
    }
   ],
   "source": [
    "from sklearn.tree import DecisionTreeClassifier\n",
    "\n",
    "model = DecisionTreeClassifier()\n",
    "model.fit(x_train,y_train)\n"
   ]
  },
  {
   "cell_type": "code",
   "execution_count": 197,
   "metadata": {},
   "outputs": [],
   "source": [
    "y_pred = model.predict(test_df)"
   ]
  },
  {
   "cell_type": "code",
   "execution_count": 198,
   "metadata": {},
   "outputs": [
    {
     "data": {
      "text/plain": [
       "array([2, 2, 2, ..., 0, 0, 0])"
      ]
     },
     "execution_count": 198,
     "metadata": {},
     "output_type": "execute_result"
    }
   ],
   "source": [
    "y_pred"
   ]
  },
  {
   "cell_type": "code",
   "execution_count": null,
   "metadata": {},
   "outputs": [],
   "source": []
  }
 ],
 "metadata": {
  "kernelspec": {
   "display_name": ".venv",
   "language": "python",
   "name": "python3"
  },
  "language_info": {
   "codemirror_mode": {
    "name": "ipython",
    "version": 3
   },
   "file_extension": ".py",
   "mimetype": "text/x-python",
   "name": "python",
   "nbconvert_exporter": "python",
   "pygments_lexer": "ipython3",
   "version": "3.10.11"
  }
 },
 "nbformat": 4,
 "nbformat_minor": 2
}
